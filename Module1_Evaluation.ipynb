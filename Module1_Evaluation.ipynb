{
 "cells": [
  {
   "cell_type": "code",
   "execution_count": 39,
   "metadata": {},
   "outputs": [],
   "source": [
    "# CREAR CLASE Y ATRIBUTOS:\n",
    "class OnlineStore:\n",
    "    def __init__(self):\n",
    "        self.inventory = [] \n",
    "        self.customers = {} \n",
    "        self.sales = 0.0 # float \n",
    "        \n",
    "# AGREGAR PRODUCTO Y ACTUALIZAR STOCK:\n",
    "    def add_product(self, name, price, stock):\n",
    "        for product in self.inventory:\n",
    "            if product['name'] == name:\n",
    "                product['stock'] += stock\n",
    "                print(f\"Update the product {name} stock.\")\n",
    "                return \n",
    "        self.inventory.append({'name': name, 'price': price, 'stock': stock})\n",
    "        print(f\"The product {name} has been added to inventory.\")\n",
    "\n",
    "# VER INVENTARIO:\n",
    "    def view_inventory(self):\n",
    "        if not self.inventory:\n",
    "            print(\"The inventory is empty.\")\n",
    "            return\n",
    "        for product in self.inventory:\n",
    "            print(f\"\\nName: {product['name']}, Price: {product['price']}, Stock: {product['stock']}\")\n",
    "    \n",
    "\n",
    "# Search product\n",
    "    def search_product(self, name):\n",
    "        for product in self.inventory:\n",
    "            if product['name'] == name:\n",
    "                print(f\"Name: {product['name']}, Price: {product['price']}, Stock: {product['stock']}\")\n",
    "                return\n",
    "        else:\n",
    "            print(f\"Product {name} not found in inventory.\")   \n",
    "\n",
    "# Remove product\n",
    "    def remove_product(self, name):\n",
    "        for product in self.inventory:\n",
    "            if product['name'] == name:\n",
    "                self.inventory.remove(product)\n",
    "                print(f\"Product {name} removed from inventory.\")\n",
    "                return\n",
    "        else:\n",
    "            print(f\"Product {name} not found in inventory.\")\n",
    "        \n",
    "# Calculate inventory value\n",
    "    def inventory_value(self):\n",
    "        total_value = sum(product['price'] * product['stock'] for product in self.inventory)\n",
    "        print(f\"The total value of the inventory is: {total_value}\")\n",
    "\n",
    "\n",
    "# Make a purchase\n",
    "    def make_a_purchase(self):\n",
    "        shopping_basket = [] # --> lista vacía para la cesta de la compra\n",
    "        total_purchase = 0.0 # --> float \n",
    "\n",
    "        while True:\n",
    "            product_name = input(\"indicate the product you want you want to buy or write 'exit' to finish: \") \n",
    "            if product_name.lower() == 'exit':\n",
    "                break\n",
    "            product_found = None # --> valor preestablecido para indicar que el producto aun no se ha encontrado\n",
    "            for product in self.inventory:\n",
    "                if product ['name'] == product_name:\n",
    "                    product_found = product\n",
    "                    break\n",
    "            if product_found:\n",
    "                try:\n",
    "                    stock = int(input(f\"Indicate the stock of {product_name} you want to buy: \")) #--> Convertir a int\n",
    "                    if stock <= product_found['stock']:\n",
    "                        shopping_basket.append({'name': product_name, 'price': product_found['price'], 'stock': stock})\n",
    "                        product_found['stock'] -= stock\n",
    "                        total_purchase += product_found['price'] * stock\n",
    "                    else:\n",
    "                        print(f\"There is not enough stock of {product_name}.\")\n",
    "                except ValueError:\n",
    "                    print(\"Please, indicate a valid number\")\n",
    "            else:\n",
    "                print(f\"Product {product_name} not found in inventory.\")\n",
    "        if shopping_basket:\n",
    "            print(\"Purchase detail:\")\n",
    "            for item in shopping_basket:\n",
    "                print(f\"Product: {item['name']}, Stock: {item['stock']}, Price per unit: {item['price']}\")\n",
    "        \n",
    "            print(f\"Total price: {total_purchase}\")\n",
    "            self.sales += total_purchase\n",
    "\n",
    "\n"
   ]
  },
  {
   "cell_type": "markdown",
   "metadata": {},
   "source": [
    "## PRUEBAS!!!\n"
   ]
  },
  {
   "cell_type": "code",
   "execution_count": 44,
   "metadata": {},
   "outputs": [
    {
     "name": "stdout",
     "output_type": "stream",
     "text": [
      "The product shirt has been added to inventory.\n",
      "The product pants has been added to inventory.\n",
      "The product shoes has been added to inventory.\n",
      "The product suit has been added to inventory.\n",
      "The product pull_over has been added to inventory.\n",
      "The product jeans has been added to inventory.\n",
      "Update the product shirt stock.\n",
      "Update the product shoes stock.\n"
     ]
    }
   ],
   "source": [
    "\n",
    "# CREAR UNA INSTANCIA PARA ONLINE STORE:\n",
    "store = OnlineStore()\n",
    "\n",
    "# AGREGAR PRODUCTOS AL INVENTARIO:\n",
    "store.add_product('shirt', 20.5, 40)\n",
    "store.add_product('pants', 30, 30)\n",
    "store.add_product('shoes', 40.5, 60)\n",
    "store.add_product('suit', 79.5, 10)\n",
    "store.add_product('pull_over', 35.9, 20)\n",
    "store.add_product('jeans', 29.9, 15)\n",
    "store.add_product('shirt', 20.5, 40) #--> Comprobar mensaje update producto ya existente\n",
    "store.add_product('shoes', 40.5, 69) #--> Comprobar mensaje update stock\n"
   ]
  },
  {
   "cell_type": "code",
   "execution_count": 45,
   "metadata": {},
   "outputs": [
    {
     "name": "stdout",
     "output_type": "stream",
     "text": [
      "\n",
      "Name: shirt, Price: 20.5, Stock: 80\n",
      "\n",
      "Name: pants, Price: 30, Stock: 30\n",
      "\n",
      "Name: shoes, Price: 40.5, Stock: 129\n",
      "\n",
      "Name: suit, Price: 79.5, Stock: 10\n",
      "\n",
      "Name: pull_over, Price: 35.9, Stock: 20\n",
      "\n",
      "Name: jeans, Price: 29.9, Stock: 15\n"
     ]
    }
   ],
   "source": [
    "# VER EL INVENTARIO:\n",
    "\n",
    "store.view_inventory()"
   ]
  },
  {
   "cell_type": "code",
   "execution_count": 49,
   "metadata": {},
   "outputs": [
    {
     "name": "stdout",
     "output_type": "stream",
     "text": [
      "Name: shirt, Price: 20.5, Stock: 80\n",
      "Product jacket not found in inventory.\n"
     ]
    }
   ],
   "source": [
    "# BUSCAR UN PRODUCTO:\n",
    "\n",
    "store.search_product('shirt') \n",
    "\n",
    "store.search_product('jacket') #--> no existe"
   ]
  },
  {
   "cell_type": "code",
   "execution_count": 50,
   "metadata": {},
   "outputs": [
    {
     "name": "stdout",
     "output_type": "stream",
     "text": [
      "Product pants not found in inventory.\n",
      "Product jacket not found in inventory.\n"
     ]
    }
   ],
   "source": [
    "# ELIMINAR PRODUCTO:\n",
    "\n",
    "store.remove_product('pants')\n",
    "store.remove_product ('jacket') #---> no existe"
   ]
  },
  {
   "cell_type": "code",
   "execution_count": 52,
   "metadata": {},
   "outputs": [
    {
     "name": "stdout",
     "output_type": "stream",
     "text": [
      "The total value of the inventory is: 8826.0\n"
     ]
    }
   ],
   "source": [
    "# VALOR TOTAL INVENTARIO:\n",
    "\n",
    "store.inventory_value()"
   ]
  },
  {
   "cell_type": "code",
   "execution_count": 54,
   "metadata": {},
   "outputs": [
    {
     "name": "stdout",
     "output_type": "stream",
     "text": [
      "Product jacket not found in inventory.\n",
      "There is not enough stock of jeans.\n",
      "Purchase detail:\n",
      "Product: shoes, Stock: 29, Price per unit: 40.5\n",
      "Product: shirt, Stock: 20, Price per unit: 20.5\n",
      "Product: suit, Stock: 2, Price per unit: 79.5\n",
      "Total price: 1743.5\n"
     ]
    }
   ],
   "source": [
    "# REALIZAR UNA COMPRA: \n",
    "\n",
    "store.make_a_purchase()"
   ]
  }
 ],
 "metadata": {
  "kernelspec": {
   "display_name": "Python 3",
   "language": "python",
   "name": "python3"
  },
  "language_info": {
   "codemirror_mode": {
    "name": "ipython",
    "version": 3
   },
   "file_extension": ".py",
   "mimetype": "text/x-python",
   "name": "python",
   "nbconvert_exporter": "python",
   "pygments_lexer": "ipython3",
   "version": "3.9.6"
  }
 },
 "nbformat": 4,
 "nbformat_minor": 2
}
