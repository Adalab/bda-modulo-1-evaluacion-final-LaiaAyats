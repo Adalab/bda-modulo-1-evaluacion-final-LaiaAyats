{
 "cells": [
  {
   "cell_type": "markdown",
   "metadata": {},
   "source": [
    "# ONLINE STORE"
   ]
  },
  {
   "cell_type": "code",
   "execution_count": 87,
   "metadata": {},
   "outputs": [],
   "source": [
    "# CREAR CLASE Y ATRIBUTOS:\n",
    "class OnlineStore:\n",
    "    def __init__(self):\n",
    "        self.inventory = [] \n",
    "        self.customers = {} \n",
    "        self.sales = 0.0 # total de ventas realizadas, inicializado en float \n",
    "        \n",
    "# AGREGAR PRODUCTO Y ACTUALIZAR STOCK:\n",
    "    def add_product(self, name, price, stock):\n",
    "        name = name.lower() # minúsculas\n",
    "        for product in self.inventory:\n",
    "            if product['name'] == name:\n",
    "                product['stock'] += stock\n",
    "                print(f\"Update the product {name} stock.\")\n",
    "                return \n",
    "        self.inventory.append({'name': name, 'price': price, 'stock': stock})\n",
    "        print(f\"The product {name} has been added to inventory.\")\n",
    "\n",
    "# VER INVENTARIO:\n",
    "    def view_inventory(self):\n",
    "        if not self.inventory:\n",
    "            print(\"The inventory is empty.\")\n",
    "            return\n",
    "        for product in self.inventory:\n",
    "            print(f\"\\nName: {product['name']}, Price: ${product['price']}, Stock: {product['stock']}\")\n",
    "    \n",
    "# BUSCAR PRODUCTO\n",
    "    def search_product(self, name):\n",
    "        name = name.lower()\n",
    "        for product in self.inventory:\n",
    "            if product['name'] == name:\n",
    "                print(f\"Name: {product['name']}, Price: ${product['price']}, Stock: {product['stock']}\")\n",
    "                return\n",
    "        else:\n",
    "            print(f\"Product {name} not found in inventory.\")   \n",
    "\n",
    "# ELIMINAR PRODUCTO\n",
    "    def remove_product(self, name):\n",
    "        name = name.lower()\n",
    "        for product in self.inventory:\n",
    "            if product['name'] == name:\n",
    "                self.inventory.remove(product)\n",
    "                print(f\"Product {name} removed from inventory.\")\n",
    "                return\n",
    "        else:\n",
    "            print(f\"Product {name} not found in inventory.\")\n",
    "        \n",
    "# CALCULAR EL VALOR DEL INVENTARIO:\n",
    "    def inventory_value(self):\n",
    "        total_value = sum(product['price'] * product['stock'] for product in self.inventory)\n",
    "        print(f\"The total value of the inventory is: ${total_value}\")\n",
    "\n",
    "# REALIZAR UNA COMPRA:\n",
    "    def make_a_purchase(self):\n",
    "        shopping_basket = [] # lista vacía para la cesta de la compra\n",
    "        total_purchase = 0.0 # float \n",
    "\n",
    "        while True:\n",
    "            product_name = input(\"indicate the product you want you want to buy or write 'exit' to finish: \").lower() # evitar error mayúsculas\n",
    "            if product_name.lower() == 'exit':\n",
    "                break\n",
    "            product_found = None # valor predefinido para indicar que el producto aun no se ha encontrado\n",
    "            for product in self.inventory:\n",
    "                if product ['name'] == product_name:\n",
    "                    product_found = product\n",
    "                    break\n",
    "            if product_found:\n",
    "                try:\n",
    "                    stock = int(input(f\"Indicate the stock of {product_name} you want to buy: \"))\n",
    "                    if stock <= product_found['stock']:\n",
    "                        shopping_basket.append({'name': product_name, 'price': product_found['price'], 'stock': stock})\n",
    "                        product_found['stock'] -= stock\n",
    "                        total_purchase += product_found['price'] * stock\n",
    "                    else:\n",
    "                        print(f\"There is not enough stock of {product_name}.\")\n",
    "                except ValueError:\n",
    "                    print(\"Please, indicate a valid number\")\n",
    "            else:\n",
    "                print(f\"Product {product_name} not found in inventory.\")\n",
    "        if shopping_basket: # Mostrar el detalle de la compra si se realizaron compras\n",
    "            print(\"Purchase detail:\")\n",
    "            for item in shopping_basket:\n",
    "                print(f\"Product: {item['name']}, Stock: {item['stock']}, Price per unit: ${item['price']}\")\n",
    "        \n",
    "            print(f\"Total price: ${total_purchase}\")\n",
    "            self.sales += total_purchase\n",
    "\n",
    "# REGISTRAR CLIENTES:\n",
    "    def add_customer(self, name, email):\n",
    "        name = name.lower()  \n",
    "        if name in self.customers:\n",
    "            print(f\"Customer {name.capitalize()} already exists.\")\n",
    "        else:\n",
    "            self.customers[name] = {'email': email, 'purchase_history': []} # Añadir cliente al diccionario de clientes\n",
    "            print(f\"Customer {name.capitalize()} added successfully.\")\n",
    "\n",
    "# VER CLIENTES:\n",
    "    def view_customers(self):\n",
    "        if not self.customers:\n",
    "            print(\"No customers registered.\")\n",
    "            return\n",
    "    # Mostrar información de cada cliente registrado\n",
    "        for name, info in self.customers.items():\n",
    "            print(f\"Name: {name}, Email: {info['email']}\")\n",
    "\n",
    "\n",
    "\n",
    "\n"
   ]
  },
  {
   "cell_type": "markdown",
   "metadata": {},
   "source": [
    "## INSTANCES FOR TESTING\n"
   ]
  },
  {
   "cell_type": "code",
   "execution_count": 88,
   "metadata": {},
   "outputs": [
    {
     "name": "stdout",
     "output_type": "stream",
     "text": [
      "The product shirt has been added to inventory.\n",
      "The product pants has been added to inventory.\n",
      "The product shoes has been added to inventory.\n",
      "The product suit has been added to inventory.\n",
      "The product pull_over has been added to inventory.\n",
      "The product jeans has been added to inventory.\n",
      "Update the product shirt stock.\n",
      "Update the product shoes stock.\n"
     ]
    }
   ],
   "source": [
    "\n",
    "# CREAR UNA INSTANCIA PARA ONLINE STORE:\n",
    "store = OnlineStore()\n",
    "\n",
    "# AGREGAR PRODUCTOS AL INVENTARIO:\n",
    "store.add_product('shirt', 20.5, 40)\n",
    "store.add_product('pants', 30, 30)\n",
    "store.add_product('shoes', 40.5, 60)\n",
    "store.add_product('suit', 79.5, 10)\n",
    "store.add_product('pull_over', 35.9, 20)\n",
    "store.add_product('jeans', 29.9, 15)\n",
    "store.add_product('shirt', 20.5, 40) #--> Comprobar mensaje update producto ya existente\n",
    "store.add_product('shoes', 40.5, 69) #--> Comprobar mensaje update stock\n"
   ]
  },
  {
   "cell_type": "code",
   "execution_count": 89,
   "metadata": {},
   "outputs": [
    {
     "name": "stdout",
     "output_type": "stream",
     "text": [
      "\n",
      "Name: shirt, Price: $20.5, Stock: 80\n",
      "\n",
      "Name: pants, Price: $30, Stock: 30\n",
      "\n",
      "Name: shoes, Price: $40.5, Stock: 129\n",
      "\n",
      "Name: suit, Price: $79.5, Stock: 10\n",
      "\n",
      "Name: pull_over, Price: $35.9, Stock: 20\n",
      "\n",
      "Name: jeans, Price: $29.9, Stock: 15\n"
     ]
    }
   ],
   "source": [
    "# VER EL INVENTARIO:\n",
    "\n",
    "store.view_inventory()"
   ]
  },
  {
   "cell_type": "code",
   "execution_count": 90,
   "metadata": {},
   "outputs": [
    {
     "name": "stdout",
     "output_type": "stream",
     "text": [
      "Name: shirt, Price: $20.5, Stock: 80\n",
      "Product jacket not found in inventory.\n"
     ]
    }
   ],
   "source": [
    "# BUSCAR UN PRODUCTO:\n",
    "\n",
    "store.search_product('shirt') \n",
    "\n",
    "store.search_product('jacket') #--> no existe"
   ]
  },
  {
   "cell_type": "code",
   "execution_count": 91,
   "metadata": {},
   "outputs": [
    {
     "name": "stdout",
     "output_type": "stream",
     "text": [
      "Product pants removed from inventory.\n",
      "Product jacket not found in inventory.\n"
     ]
    }
   ],
   "source": [
    "# ELIMINAR PRODUCTO:\n",
    "\n",
    "store.remove_product('pants')\n",
    "store.remove_product ('jacket') #---> no existe"
   ]
  },
  {
   "cell_type": "code",
   "execution_count": 92,
   "metadata": {},
   "outputs": [
    {
     "name": "stdout",
     "output_type": "stream",
     "text": [
      "The total value of the inventory is: $8826.0\n"
     ]
    }
   ],
   "source": [
    "# VALOR TOTAL INVENTARIO:\n",
    "\n",
    "store.inventory_value()"
   ]
  },
  {
   "cell_type": "code",
   "execution_count": 62,
   "metadata": {},
   "outputs": [
    {
     "name": "stdout",
     "output_type": "stream",
     "text": [
      "There is not enough stock of suit.\n",
      "Product jacket not found in inventory.\n",
      "Purchase detail:\n",
      "Product: shirt, Stock: 5, Price per unit: $20.5\n",
      "Product: pull_over, Stock: 5, Price per unit: $35.9\n",
      "Product: shoes, Stock: 5, Price per unit: $40.5\n",
      "Total price: $484.5\n"
     ]
    }
   ],
   "source": [
    "# REALIZAR UNA COMPRA: \n",
    "\n",
    "store.make_a_purchase()"
   ]
  },
  {
   "cell_type": "code",
   "execution_count": 96,
   "metadata": {},
   "outputs": [
    {
     "name": "stdout",
     "output_type": "stream",
     "text": [
      "Customer Laia already exists.\n",
      "Customer Julieta already exists.\n",
      "Customer Adri already exists.\n",
      "Customer Laura already exists.\n",
      "Customer Laia already exists.\n"
     ]
    }
   ],
   "source": [
    "# REGISTRAR CLIENTES:\n",
    "\n",
    "store.add_customer('Laia', 'laia@gmail.com')\n",
    "store.add_customer('Julieta', 'julieta@gmail.com')\n",
    "store.add_customer('Adri', 'adri@gmail.com')\n",
    "store.add_customer('Laura', 'laura@gmail.com')\n",
    "store.add_customer('Laia', 'laia@gmail.com') #--> Ya existe"
   ]
  },
  {
   "cell_type": "code",
   "execution_count": 94,
   "metadata": {},
   "outputs": [
    {
     "name": "stdout",
     "output_type": "stream",
     "text": [
      "Name: laia, Email: laia@gmail.com\n",
      "Name: julieta, Email: julieta@gmail.com\n",
      "Name: adri, Email: adri@gmail.com\n",
      "Name: laura, Email: laura@gmail.com\n"
     ]
    }
   ],
   "source": [
    "# VER CLIENTES:\n",
    "\n",
    "store.view_customers()\n"
   ]
  }
 ],
 "metadata": {
  "kernelspec": {
   "display_name": "Python 3",
   "language": "python",
   "name": "python3"
  },
  "language_info": {
   "codemirror_mode": {
    "name": "ipython",
    "version": 3
   },
   "file_extension": ".py",
   "mimetype": "text/x-python",
   "name": "python",
   "nbconvert_exporter": "python",
   "pygments_lexer": "ipython3",
   "version": "3.9.6"
  }
 },
 "nbformat": 4,
 "nbformat_minor": 2
}
